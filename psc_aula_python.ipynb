{
  "nbformat": 4,
  "nbformat_minor": 0,
  "metadata": {
    "colab": {
      "provenance": [],
      "authorship_tag": "ABX9TyNIs0N5gkx6V3K0nZ7cOzJD",
      "include_colab_link": true
    },
    "kernelspec": {
      "name": "python3",
      "display_name": "Python 3"
    },
    "language_info": {
      "name": "python"
    }
  },
  "cells": [
    {
      "cell_type": "markdown",
      "metadata": {
        "id": "view-in-github",
        "colab_type": "text"
      },
      "source": [
        "<a href=\"https://colab.research.google.com/github/clovesrocha/PSC_EXemC/blob/main/psc_aula_python.ipynb\" target=\"_parent\"><img src=\"https://colab.research.google.com/assets/colab-badge.svg\" alt=\"Open In Colab\"/></a>"
      ]
    },
    {
      "cell_type": "code",
      "execution_count": 4,
      "metadata": {
        "colab": {
          "base_uri": "https://localhost:8080/"
        },
        "id": "ny5xCNWvOxgH",
        "outputId": "c43d5fb3-d1f4-4a80-86ca-759920d90a4b"
      },
      "outputs": [
        {
          "output_type": "stream",
          "name": "stdout",
          "text": [
            "<class 'int'>\n"
          ]
        }
      ],
      "source": [
        "#PROGRAÇÃO DE SOLUÇÕES COMPUTACIONAIS\n",
        "# PSC 21 de Maio - DOCENTE: CLOVES ROCHA\n",
        "''' EXEMPLO DE COMENTÁRIO EM MAIS DE\n",
        "UMA LINHA,\n",
        "BLZA!'''\n",
        "\n",
        "x = 10\n",
        "print(type(x))"
      ]
    },
    {
      "cell_type": "code",
      "source": [
        "x = 'Olá mundo!'\n",
        "print(x)\n",
        "print(type(x))"
      ],
      "metadata": {
        "colab": {
          "base_uri": "https://localhost:8080/"
        },
        "id": "M0FOUC1xSDBl",
        "outputId": "e0f8d584-f196-433b-c4c9-6abdb9aedec4"
      },
      "execution_count": 5,
      "outputs": [
        {
          "output_type": "stream",
          "name": "stdout",
          "text": [
            "Olá mundo!\n",
            "<class 'str'>\n"
          ]
        }
      ]
    },
    {
      "cell_type": "code",
      "source": [
        "a = 2\n",
        "b = 3\n",
        "print(a != b)"
      ],
      "metadata": {
        "colab": {
          "base_uri": "https://localhost:8080/"
        },
        "id": "A3RFqc5USNxm",
        "outputId": "66e25e47-9d08-415d-b578-a0f07900a4b4"
      },
      "execution_count": 10,
      "outputs": [
        {
          "output_type": "stream",
          "name": "stdout",
          "text": [
            "True\n"
          ]
        }
      ]
    },
    {
      "cell_type": "code",
      "source": [
        "numero = 2\n",
        "print(f'O número {numero} é par.')"
      ],
      "metadata": {
        "colab": {
          "base_uri": "https://localhost:8080/"
        },
        "id": "OrNFF5VETbiy",
        "outputId": "1a6a203f-2e0f-4f44-af3c-caa29a5f294e"
      },
      "execution_count": 13,
      "outputs": [
        {
          "output_type": "stream",
          "name": "stdout",
          "text": [
            "O número 2 é par.\n"
          ]
        }
      ]
    },
    {
      "cell_type": "code",
      "source": [
        "nome = input('Digite seu nome completo: ')\n",
        "print(f'Seu nome é {nome}.')"
      ],
      "metadata": {
        "colab": {
          "base_uri": "https://localhost:8080/"
        },
        "id": "xFf0ReIcUidq",
        "outputId": "89a89705-22c1-4196-950f-9964a38194a1"
      },
      "execution_count": 15,
      "outputs": [
        {
          "output_type": "stream",
          "name": "stdout",
          "text": [
            "Digite seu nome completo: Cloves Rocha\n",
            "Seu nome é Cloves Rocha.\n"
          ]
        }
      ]
    },
    {
      "cell_type": "code",
      "source": [
        "idade = input('Digite sua idade: ')\n",
        "print(f'Você tem {idade} anos.')"
      ],
      "metadata": {
        "colab": {
          "base_uri": "https://localhost:8080/"
        },
        "id": "cIreYThqU3bX",
        "outputId": "5e4739d1-b418-414e-8ac1-c93eadb8d247"
      },
      "execution_count": 16,
      "outputs": [
        {
          "output_type": "stream",
          "name": "stdout",
          "text": [
            "Digite sua idade: 45\n",
            "Você tem 45 anos.\n"
          ]
        }
      ]
    },
    {
      "cell_type": "code",
      "source": [
        "idade = int(input('Digite sua idade: '))\n",
        "print(f'Você tem {idade} anos.')\n",
        "print(type(idade))"
      ],
      "metadata": {
        "colab": {
          "base_uri": "https://localhost:8080/"
        },
        "id": "8JmWYlbhVN2Q",
        "outputId": "3649bcf7-c5a2-49d8-a148-a337931222f5"
      },
      "execution_count": 17,
      "outputs": [
        {
          "output_type": "stream",
          "name": "stdout",
          "text": [
            "Digite sua idade: 55\n",
            "Você tem 55 anos.\n",
            "<class 'int'>\n"
          ]
        }
      ]
    },
    {
      "cell_type": "code",
      "source": [
        "peso = float(input('Digite seu peso: '))\n",
        "print(f'Você pesa {peso}KGs')\n",
        "print(type(peso))"
      ],
      "metadata": {
        "colab": {
          "base_uri": "https://localhost:8080/"
        },
        "id": "-_IABvDRVSgu",
        "outputId": "8ac44c11-fe04-4d24-baac-b1ad50857ac8"
      },
      "execution_count": 18,
      "outputs": [
        {
          "output_type": "stream",
          "name": "stdout",
          "text": [
            "Digite seu peso: 34\n",
            "Você pesa 34.0KGs\n",
            "<class 'float'>\n"
          ]
        }
      ]
    },
    {
      "cell_type": "code",
      "source": [
        "num = int(input('Digite um número: '))\n",
        "if num % 2 == 0:\n",
        "    print(f'O número {num} é par')\n",
        "else:\n",
        "    print(f'O número {num} é ímpar')"
      ],
      "metadata": {
        "colab": {
          "base_uri": "https://localhost:8080/"
        },
        "id": "dssw55g0Vtbs",
        "outputId": "7c58b932-dcef-4963-c98e-d750f601d698"
      },
      "execution_count": 20,
      "outputs": [
        {
          "output_type": "stream",
          "name": "stdout",
          "text": [
            "Digite um número: 12405656005645643\n",
            "O número 12405656005645643 é ímpar\n"
          ]
        }
      ]
    },
    {
      "cell_type": "code",
      "source": [
        "num = float(input('Digite um número: '))\n",
        "if num > 0:\n",
        "   print('Este número é positivo')\n",
        "elif num == 0:\n",
        "   print('Este número é neutro')\n",
        "else:\n",
        "   print('Este número é negativo')"
      ],
      "metadata": {
        "colab": {
          "base_uri": "https://localhost:8080/"
        },
        "id": "W3zxZ9VxWfED",
        "outputId": "f3b26d42-59db-4a8a-c837-692c8601e05c"
      },
      "execution_count": 21,
      "outputs": [
        {
          "output_type": "stream",
          "name": "stdout",
          "text": [
            "Digite um número: -3\n",
            "Este número é negativo\n"
          ]
        }
      ]
    },
    {
      "cell_type": "code",
      "source": [
        "resposta = int(input('Qual sua idade: ') )\n",
        "if resposta>=18 and resposta <=65:\n",
        "   print('Você é obrigado a votar!')\n",
        "else:\n",
        "   print('Você não é obrigado a votar!')"
      ],
      "metadata": {
        "colab": {
          "base_uri": "https://localhost:8080/"
        },
        "id": "UGgaYaWDXF7k",
        "outputId": "1c63e564-4574-4216-974d-c33e8202c441"
      },
      "execution_count": 25,
      "outputs": [
        {
          "output_type": "stream",
          "name": "stdout",
          "text": [
            "Qual sua idade: 56\n",
            "Você é obrigado a votar!\n"
          ]
        }
      ]
    },
    {
      "cell_type": "code",
      "source": [
        "print('1. Idoso')\n",
        "print('2. Gestante')\n",
        "print('3. Cadeirante')\n",
        "print('4. Atendimento comum')\n",
        "resposta = int(input('Selecione uma opção: ') )\n",
        "\n",
        "if (resposta == 1) or (resposta == 2) or (resposta == 3):\n",
        "   print('Você tem direito a fila prioritária')\n",
        "else:\n",
        "   print('Aguarde sua vez na fila comum.')"
      ],
      "metadata": {
        "colab": {
          "base_uri": "https://localhost:8080/"
        },
        "id": "bD-NNt4wXkm5",
        "outputId": "fa8cd200-83e8-4abc-e87d-cdcb05be241b"
      },
      "execution_count": 26,
      "outputs": [
        {
          "output_type": "stream",
          "name": "stdout",
          "text": [
            "1. Idoso\n",
            "2. Gestante\n",
            "3. Cadeirante\n",
            "4. Atendimento comum\n",
            "Selecione uma opção: 1\n",
            "Você tem direito a fila prioritária\n"
          ]
        }
      ]
    },
    {
      "cell_type": "code",
      "source": [
        "a = 6\n",
        "b = 6\n",
        "print(not a > b)"
      ],
      "metadata": {
        "colab": {
          "base_uri": "https://localhost:8080/"
        },
        "id": "Yp4VdwjPYYFN",
        "outputId": "b8813920-3162-4ae5-a081-fa59c3ee1f84"
      },
      "execution_count": 32,
      "outputs": [
        {
          "output_type": "stream",
          "name": "stdout",
          "text": [
            "True\n"
          ]
        }
      ]
    },
    {
      "cell_type": "code",
      "source": [
        "agencia = input('Qual é a sigla da agência espacial norte-americana?')\n",
        "\n",
        "if not agencia=='NASA':\n",
        "   print('Errado, tente novamente!')\n",
        "else:\n",
        "   print('Correto, NASA!')"
      ],
      "metadata": {
        "colab": {
          "base_uri": "https://localhost:8080/"
        },
        "id": "sh0TpH_6Y18y",
        "outputId": "338faf3d-43b5-4bbd-c2cc-8c32b39d72d4"
      },
      "execution_count": 34,
      "outputs": [
        {
          "output_type": "stream",
          "name": "stdout",
          "text": [
            "Qual é a sigla da agência espacial norte-americana?NASA\n",
            "Correto, NASA!\n"
          ]
        }
      ]
    },
    {
      "cell_type": "code",
      "source": [
        "c = int(input('Digite um número: '))\n",
        "if c in range(1, 100, 2):\n",
        "  print(f'{c} está entre 1 e 99.')\n",
        "else:\n",
        "  print(f'{c} não está entre 1 e 99.')"
      ],
      "metadata": {
        "colab": {
          "base_uri": "https://localhost:8080/"
        },
        "id": "AmMNioHjZJE9",
        "outputId": "075fcb17-d424-47d4-a4a0-340d25458547"
      },
      "execution_count": 42,
      "outputs": [
        {
          "output_type": "stream",
          "name": "stdout",
          "text": [
            "Digite um número: 25\n",
            "25 está entre 1 e 99.\n"
          ]
        }
      ]
    },
    {
      "cell_type": "markdown",
      "source": [
        "**Exercícios e Desafios**\n",
        "1. Faça um Programa que mostre a mensagem \"Olá mundo\" na tela.\n",
        "2. Faça um Programa que peça um número e então mostre a mensagem O número informado foi [número].\n",
        "3. Faça um Programa que peça dois números e imprima a soma.\n",
        "4. Faça um Programa que peça as 4 notas bimestrais e mostre a média.\n",
        "5. Faça um Programa que converta metros para centímetros.\n",
        "6. Faça um Programa que peça o raio de um círculo, calcule e mostre sua área.\n",
        "7. Faça um Programa que calcule a área de um quadrado, em seguida mostre o dobro desta área para o usuário.\n",
        "8. Faça um Programa que pergunte quanto você ganha por hora e o número de horas trabalhadas no mês. 8. Calcule e mostre o total do seu salário no referido mês.\n",
        "9. Faça um Programa que peça um valor e mostre na tela se o valor é positivo ou negativo.\n",
        "10. Faça um Programa que verifique se uma letra digitada é \"F\" ou \"M\". 11. Conforme a letra escrever: F - Feminino, M - Masculino, Sexo Inválido.\n",
        "11. Faça um Programa que verifique se uma letra digitada é vogal ou consoante.\n"
      ],
      "metadata": {
        "id": "DgxSuSNFabQn"
      }
    }
  ]
}
